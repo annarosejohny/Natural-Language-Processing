{
 "cells": [
  {
   "cell_type": "markdown",
   "metadata": {
    "deletable": false,
    "editable": false,
    "nbassignment": {
     "type": "header"
    },
    "nbgrader": {
     "cell_type": "markdown",
     "checksum": "a4fd6b7550484ed709bca7da18028042",
     "grade": false,
     "grade_id": "template_886979f3_0",
     "locked": true,
     "schema_version": 3,
     "solution": false,
     "task": false
    }
   },
   "source": [
    "<div class=\"alert alert-block alert-info\">\n",
    "    <h1>Natural Language Processing</h1>\n",
    "    <h3>General Information:</h3>\n",
    "    <p>Please do not add or delete any cells. Answers belong into the corresponding cells (below the question). If a function is given (either as a signature or a full function), you should not change the name, arguments or return value of the function.<br><br> If you encounter empty cells underneath the answer that can not be edited, please ignore them, they are for testing purposes.<br><br>When editing an assignment there can be the case that there are variables in the kernel. To make sure your assignment works, please restart the kernel and run all cells before submitting (e.g. via <i>Kernel -> Restart & Run All</i>).</p>\n",
    "    <p>Code cells where you are supposed to give your answer often include the line  ```raise NotImplementedError```. This makes it easier to automatically grade answers. If you edit the cell please outcomment or delete this line.</p>\n",
    "    <h3>Submission:</h3>\n",
    "    <p>Please submit your notebook via the web interface (in the main view -> Assignments -> Submit). The assignments are due on <b>Wednesday at 15:00</b>.</p>\n",
    "    <h3>Group Work:</h3>\n",
    "    <p>You are allowed to work in groups of up to two people. Please enter the UID (your username here) of each member of the group into the next cell. We apply plagiarism checking, so do not submit solutions from other people except your team members. If an assignment has a copied solution, the task will be graded with 0 points for all people with the same solution.</p>\n",
    "    <h3>Questions about the Assignment:</h3>\n",
    "    <p>If you have questions about the assignment please post them in the LEA forum before the deadline. Don't wait until the last day to post questions.</p>\n",
    "    \n",
    "</div>"
   ]
  },
  {
   "cell_type": "markdown",
   "metadata": {
    "deletable": false,
    "editable": false,
    "nbgrader": {
     "cell_type": "markdown",
     "checksum": "49ee22d6c2e3e271dc00016f477e349b",
     "grade": false,
     "grade_id": "TfIdfEmbeddings_ATfIdfEmbeddings_BTfIdfEmbeddings_CTfIdfEmbeddings_DTfIdfEmbeddings_ETfIdfEmbeddings_FTfIdfEmbeddings_GTfIdfEmbeddings_HTfIdfEmbeddings_I_Header",
     "locked": true,
     "schema_version": 3,
     "solution": false,
     "task": false
    }
   },
   "source": [
    "\n",
    "# Word Embeddings\n",
    "\n",
    "In this assignment we want to create word embeddings (vectors) from a corpus and use them to build a simple document classifier.\n",
    "\n",
    "For this we will use a subset of the Yelp restaurant dataset. \n",
    "\n",
    "The dataset contains a list of reviews, where each review is a dictionary with the following fields:\n",
    "\n",
    "- ```id```: An integer denoting the id of the review\n",
    "- ```text```: The original review as a single string\n",
    "- ```stars```: How the place was rated from 1 (worst) to 5 (best)\n",
    "- ```tokens```: The tokenized and cleaned review. All tokens have been converted to lower case.\n",
    "\n",
    "There are two datasets, ```reviews_train``` consisting of 400 reviews (80 per rating) and ```reviews_test``` consisting of 100 reviews (20 per rating).\n",
    "\n",
    "The following cell shows how to load the datasets into the variables ```train``` and ```test```.\n",
    "\n",
    "\n",
    "**Attention: This assignment might look like a lot of tasks but you will be able to reuse a lot of answers from the One Hot Embedding tasks for the TfIdf Embedding task**"
   ]
  },
  {
   "cell_type": "code",
   "execution_count": 2,
   "metadata": {
    "deletable": false,
    "editable": false,
    "nbgrader": {
     "cell_type": "code",
     "checksum": "efb240acb99c2676b8bf55e343de772a",
     "grade": false,
     "grade_id": "TfIdfEmbeddings_A_Description0",
     "locked": true,
     "schema_version": 3,
     "solution": false,
     "task": false
    }
   },
   "outputs": [
    {
     "data": {
      "text/plain": [
       "{'id': 438,\n",
       " 'text': \"Absolutely ridiculously amazing! Chicken Tikka masala was perfect. Best I've ever had!\",\n",
       " 'tokens': ['absolutely',\n",
       "  'ridiculously',\n",
       "  'amazing',\n",
       "  'chicken',\n",
       "  'tikka',\n",
       "  'masala',\n",
       "  'was',\n",
       "  'perfect',\n",
       "  'best',\n",
       "  'i',\n",
       "  'ever',\n",
       "  'had'],\n",
       " 'stars': 5}"
      ]
     },
     "execution_count": 2,
     "metadata": {},
     "output_type": "execute_result"
    }
   ],
   "source": [
    "import pickle\n",
    "\n",
    "with open('/srv/shares/NLP/reviews_train.pkl', 'rb') as f:\n",
    "    train = pickle.load(f)\n",
    "    \n",
    "with open('/srv/shares/NLP/reviews_test.pkl', 'rb') as f:\n",
    "    test = pickle.load(f)\n",
    "    \n",
    "# Print a review\n",
    "train[358]"
   ]
  },
  {
   "cell_type": "markdown",
   "metadata": {
    "deletable": false,
    "editable": false,
    "nbgrader": {
     "cell_type": "markdown",
     "checksum": "76caec1954d554f5abaeae8d6b82d475",
     "grade": false,
     "grade_id": "TfIdfEmbeddings_A_Description1",
     "locked": true,
     "schema_version": 3,
     "solution": false,
     "task": false
    }
   },
   "source": [
    "## One Hot Enconding\n",
    "\n",
    "Perhabs the simplest way to build word embeddings is by using one hot vectors. These are vectors with a length of $|V|$ where $V$ is our vocabulary (the types from our corpus). The vocabulary should be an alphabetically sorted list of types.\n",
    "\n",
    "A one hot vector consists of mostly zeros with a single one at the index of the word in the vocabulary. \n",
    "\n",
    "*Example:*\n",
    "\n",
    "Assume we have the vocabulary ```['a', 'dog', 'i', 'have']```. Then the embedding for the word ```a``` would be $[1, 0, 0, 0]$. The embedding for the word ```i``` would be $[0, 0, 1, 0]$."
   ]
  },
  {
   "cell_type": "markdown",
   "metadata": {
    "deletable": false,
    "editable": false,
    "nbgrader": {
     "cell_type": "markdown",
     "checksum": "658e2c1b2386709d7d558cce15d04401",
     "grade": false,
     "grade_id": "TfIdfEmbeddings_A_Description2",
     "locked": true,
     "schema_version": 3,
     "solution": false,
     "task": false
    }
   },
   "source": [
    "### One Hot Encoding A) [15 points]\n",
    "\n",
    "Complete the class ```OneHotModel```.\n",
    "\n",
    "This class has the following three methods:\n",
    "\n",
    "- ```build_index```: Takes a list of documents (each being a list of tokens). Then it creates the dictionary ```self.index``` which maps each type to an index. In the example above the dictionary would look like this:\n",
    "```self.index = {'a': 0, 'dog': 1, 'i': 2, 'have': 3}```\n",
    "\n",
    "- ```train```: Takes a list of documents (each being a list of tokens). This should train the one hot model such that it can return vectors for each type in the corpus\n",
    "\n",
    "- ```embed```: Take a single word and return a one hot encoded vector for that word. If the word is not in the index it should return ```None```\n",
    "\n",
    "\n",
    "Please complete the three methods of the class."
   ]
  },
  {
   "cell_type": "code",
   "execution_count": 3,
   "metadata": {
    "deletable": false,
    "nbgrader": {
     "cell_type": "code",
     "checksum": "c1e12bcbb08f213c8af72f31ec8359c2",
     "grade": false,
     "grade_id": "TfIdfEmbeddings_A",
     "locked": false,
     "schema_version": 3,
     "solution": true,
     "task": false
    }
   },
   "outputs": [],
   "source": [
    "from typing import List\n",
    "from abc import ABC, abstractmethod\n",
    "from sklearn.preprocessing import OneHotEncoder\n",
    "import numpy as np\n",
    "\n",
    "# Abstract super class for all embedding models we build, do not edit this\n",
    "class EmbeddingModel(ABC):\n",
    "    \n",
    "    @abstractmethod\n",
    "    def train(self, docs: List[List[str]]) -> None:\n",
    "        pass\n",
    "    \n",
    "    @abstractmethod\n",
    "    def embed(self, word: str) -> np.ndarray:\n",
    "        pass\n",
    "    \n",
    "    @abstractmethod\n",
    "    def vector_size(self) -> int:\n",
    "        pass\n",
    "\n",
    "\n",
    "class OneHotModel(EmbeddingModel):\n",
    "    \n",
    "    def build_index(self, docs: List[List[str]]) -> None:\n",
    "        '''\n",
    "        Create an index for the vocabulary from the docs\n",
    "        \n",
    "        Args:\n",
    "            docs -- A list of documents where each document is a list of tokens\n",
    "        '''\n",
    "        self.index = dict()\n",
    "    \n",
    "        # Use list comprehension to convert a list of lists to a flat list \n",
    "        self.sorted_list = []\n",
    "        self.sorted_list = [w for s in docs for w in s]\n",
    "        \n",
    "        # Sorting the list in ascending order\n",
    "        self.sorted_list = sorted(list(set(self.sorted_list)))\n",
    "        \n",
    "        # Create dictionary for sorted list with index\n",
    "        self.index = {j:i for i,j in enumerate(self.sorted_list)}\n",
    "        \n",
    "    \n",
    "    def train(self, docs: List[List[str]]) -> None:\n",
    "        '''\n",
    "        Train our model with a list of documents\n",
    "        \n",
    "        Args:\n",
    "            docs -- A list of documents where each document is a list of tokens\n",
    "        '''\n",
    "        self.build_index(docs)\n",
    "        \n",
    "        # Creating list for storing vectors\n",
    "        self.vectors = []\n",
    "        for row in np.eye(len(self.sorted_list),dtype=int):\n",
    "            self.vectors.append(row)\n",
    "        \n",
    "        # Creating dictionary with sorted list and vectors\n",
    "        self.dictt = dict(zip(self.sorted_list,self.vectors))\n",
    "        \n",
    "        \n",
    "    def embed(self, word: str) -> np.ndarray:\n",
    "        '''\n",
    "        Embed a word into our one hot vector space\n",
    "        If the word is not in the index it will return None\n",
    "        \n",
    "        Args:\n",
    "            word      -- The word we want an embedding for\n",
    "        Returns:\n",
    "            embedding -- The one hot encoded vector for the word\n",
    "        '''\n",
    "        if word in self.index:\n",
    "            return self.vectors[self.index[word]]\n",
    "        else:\n",
    "            return None\n",
    "                \n",
    "        \n",
    "    def vector_size(self) -> int:\n",
    "        '''\n",
    "        Return the length of the embedding\n",
    "        '''\n",
    "        return len(self.index)"
   ]
  },
  {
   "cell_type": "code",
   "execution_count": 4,
   "metadata": {
    "deletable": false,
    "editable": false,
    "nbgrader": {
     "cell_type": "code",
     "checksum": "7006ecaf4bb8091256a1ef55f0af7308",
     "grade": true,
     "grade_id": "test_TfIdfEmbeddings_A0",
     "locked": true,
     "points": 15,
     "schema_version": 3,
     "solution": false,
     "task": false
    }
   },
   "outputs": [],
   "source": [
    "# This is a test cell, please ignore it"
   ]
  },
  {
   "cell_type": "markdown",
   "metadata": {
    "deletable": false,
    "editable": false,
    "nbgrader": {
     "cell_type": "markdown",
     "checksum": "39ae53a845270b0c099343dc2b01046b",
     "grade": false,
     "grade_id": "TfIdfEmbeddings_B_Description0",
     "locked": true,
     "schema_version": 3,
     "solution": false,
     "task": false
    }
   },
   "source": [
    "### One Hot Encoding B) [10 points]\n",
    "\n",
    "We now want to use our model to create one hot vectors for each type in our training dataset ```train```.\n",
    "\n",
    "After training we want to create document embeddings using the bag-of-words approach. For this you need to complete a function called ```bagOfWords``` which takes in a document as a list of strings and our one hot model, maps each token of the document to a one hot vector and sums them up. \n",
    "\n",
    "The document embedding is then the sum of all word embeddings in the document divided by the number of tokens in the document that are present in our model."
   ]
  },
  {
   "cell_type": "code",
   "execution_count": 5,
   "metadata": {
    "deletable": false,
    "nbgrader": {
     "cell_type": "code",
     "checksum": "4b35e936f0e9d76fe2464820be4008ed",
     "grade": false,
     "grade_id": "TfIdfEmbeddings_B",
     "locked": false,
     "schema_version": 3,
     "solution": true,
     "task": false
    }
   },
   "outputs": [
    {
     "name": "stdout",
     "output_type": "stream",
     "text": [
      "[0.         0.         0.33333333 0.         0.33333333 0.\n",
      " 0.         0.         0.33333333]\n"
     ]
    }
   ],
   "source": [
    "def bagOfWords(model: EmbeddingModel, doc: List[str]) -> np.ndarray:\n",
    "    '''\n",
    "    Create a document embedding using the bag of words approach\n",
    "    \n",
    "    Args:\n",
    "        model     -- The embedding model to use\n",
    "        doc       -- A document as a list of tokens\n",
    "        \n",
    "    Returns:\n",
    "        embedding -- The embedding for the document as a single vector \n",
    "    '''\n",
    "    sum_array = np.zeros(model.vector_size())\n",
    "    number_of_tokens = 0\n",
    "    for word in doc:\n",
    "        vector = model.embed(word)\n",
    "        if vector is not None:\n",
    "            number_of_tokens +=1\n",
    "            sum_array = np.add(sum_array,vector)\n",
    "    embeded_vector = sum_array/number_of_tokens\n",
    "    return embeded_vector\n",
    "\n",
    "\n",
    "# Create a one hot model and train it on a dummy corpus\n",
    "model = OneHotModel()\n",
    "corpus = [['i', 'like', 'pizza'],\n",
    "          ['do', 'you', 'like', 'pizza'],\n",
    "          ['everybody', 'likes', 'pizza', 'or', 'fries']]\n",
    "\n",
    "# Train the model on the corpus\n",
    "model.train(corpus)\n",
    "\n",
    "# Create a document embedding for the sample document\n",
    "doc = ['you','like', 'fries']\n",
    "\n",
    "# This should create the embedding: [0, 0, 0.33333333, 0, 0.33333333, 0, 0, 0, 0.33333333]\n",
    "print(bagOfWords(model, doc))"
   ]
  },
  {
   "cell_type": "code",
   "execution_count": 6,
   "metadata": {
    "deletable": false,
    "editable": false,
    "nbgrader": {
     "cell_type": "code",
     "checksum": "6c0ad0d9cd78f696bdbb2d468ec25b52",
     "grade": true,
     "grade_id": "test_TfIdfEmbeddings_B0",
     "locked": true,
     "points": 10,
     "schema_version": 3,
     "solution": false,
     "task": false
    }
   },
   "outputs": [],
   "source": [
    "# This is a test cell, please ignore it"
   ]
  },
  {
   "cell_type": "markdown",
   "metadata": {
    "deletable": false,
    "editable": false,
    "nbgrader": {
     "cell_type": "markdown",
     "checksum": "25cb82de93ba73031b729120cab3486d",
     "grade": false,
     "grade_id": "TfIdfEmbeddings_C_Description0",
     "locked": true,
     "schema_version": 3,
     "solution": false,
     "task": false
    }
   },
   "source": [
    "### One Hot Encoding C) [10 points]\n",
    "\n",
    "Train your OneHotModel on the reviews from the training set.\n",
    "\n",
    "Then create the following matrices / vectors from the training and test dataset:\n",
    "\n",
    "- ```embed_train```: A 2-dimensional numpy array where the rows are the document embeddings for each document in the training set\n",
    "- ```labels_train```: A 1-dimensional numpy array where each element is the rating (stars) of the review from the training set. The rating at position 3 should correspond to the third row of the ```embed_train``` matrix.\n",
    "- ```embed_test```: A 2-dimensional numpy array where the rows are the document embeddings for each document in the test set\n",
    "- ```labels_test```: A 1-dimensional numpy array where each element is the rating (stars) of the review from the test set. The rating at position 3 should correspond to the third row of the ```embed_test``` matrix."
   ]
  },
  {
   "cell_type": "code",
   "execution_count": 7,
   "metadata": {
    "deletable": false,
    "nbgrader": {
     "cell_type": "code",
     "checksum": "d172922582c34ea4cd46f2882660de74",
     "grade": false,
     "grade_id": "TfIdfEmbeddings_C",
     "locked": false,
     "schema_version": 3,
     "solution": true,
     "task": false
    }
   },
   "outputs": [
    {
     "name": "stdout",
     "output_type": "stream",
     "text": [
      "(400, 5497)\n",
      "(400, 1)\n",
      "(100, 5497)\n",
      "(100, 1)\n"
     ]
    }
   ],
   "source": [
    "model = OneHotModel()\n",
    "model.train([review['tokens'] for review in train])\n",
    "\n",
    "embed_train = np.array([[]])\n",
    "labels_train = np.array([])\n",
    "\n",
    "embed_test = np.array([[]])\n",
    "labels_test = np.array([])\n",
    "\n",
    "# Training set\n",
    "training_set = [review['tokens'] for review in train]\n",
    "embed_train = np.zeros_like(bagOfWords(model,training_set[0]))\n",
    "# Stacking the tokens and vectors vertically side by side for training set\n",
    "for i in training_set:\n",
    "    embed_train = np.vstack((embed_train,bagOfWords(model,i)))\n",
    "embed_train = embed_train[1:,:]\n",
    "# Labels containing 'stars' \n",
    "labels_train = [review['stars'] for review in train]\n",
    "labels_train = np.reshape(labels_train,(-1,1))\n",
    "\n",
    "# Test set\n",
    "testing_set = [review['tokens'] for review in test]\n",
    "embed_test = np.zeros_like(bagOfWords(model,testing_set[0]))\n",
    "# Stacking the tokens and vectors vertically side by side for test set\n",
    "for i in testing_set:\n",
    "    embed_test = np.vstack((embed_test,bagOfWords(model,i)))\n",
    "embed_test = embed_test[1:,:]\n",
    "# Labels containing 'stars' \n",
    "labels_test = [review['stars'] for review in test]\n",
    "labels_test = np.reshape(labels_test,(-1,1))\n",
    "\n",
    "\n",
    "print(embed_train.shape)  # Should print (400, 5497)\n",
    "print(labels_train.shape) # Should print (400, )\n",
    "print(embed_test.shape)   # Should print (100, 5497)\n",
    "print(labels_test.shape)  # Should print (100, )"
   ]
  },
  {
   "cell_type": "code",
   "execution_count": 8,
   "metadata": {
    "deletable": false,
    "editable": false,
    "nbgrader": {
     "cell_type": "code",
     "checksum": "9041aca2a181df3fb209d3688f83be66",
     "grade": true,
     "grade_id": "test_TfIdfEmbeddings_C0",
     "locked": true,
     "points": 10,
     "schema_version": 3,
     "solution": false,
     "task": false
    }
   },
   "outputs": [],
   "source": [
    "# This is a test cell, please ignore it"
   ]
  },
  {
   "cell_type": "markdown",
   "metadata": {
    "deletable": false,
    "editable": false,
    "nbgrader": {
     "cell_type": "markdown",
     "checksum": "1ff7e3c28b743a0823e8f448f347e170",
     "grade": false,
     "grade_id": "TfIdfEmbeddings_D_Description0",
     "locked": true,
     "schema_version": 3,
     "solution": false,
     "task": false
    }
   },
   "source": [
    "### One Hot Encoding D) [10 points]\n",
    "\n",
    "With the matrices and vectors we just created we can train a simple classifier such as a Support Vector Machine for multi-class classification. \n",
    "\n",
    "For this we will use an implementation from sklearn ```sklearn.svm.SVC```. Each model from sklearn has two main methods:\n",
    "\n",
    "- ```fit```: Takes in a matrix like our ```embed_train``` matrix and a vector like our ```labels_train``` vector and trains the classifier on the data\n",
    "\n",
    "- ```predict```: Takes in a single data vector (like our document vectors) and predicts the label\n",
    "\n",
    "A nice way of presenting the performance of a classifier is to use a confusion matrix. This is a matrix where the rows show the correct label and columns the predicted label. A perfect classifier would have all samples on the main diagonal and all zeros else.\n",
    "\n",
    "Luckily ```sklearn``` already provides us with a function to plot a confusion matrix ```sklearn.metrics.plot_confusion_matrix```. This takes in a trained classifier, a matrix of samples and a vector of true labels.\n",
    "\n",
    "Your task is now to:\n",
    "\n",
    "- Train the SVM Classifier (SVC) on your training data with standard parameters\n",
    "- Plot a confusion matrix for the training set\n",
    "- Plot a confusion matrix for the test set\n",
    "- Add a title to each confusion matrix\n",
    "\n",
    "Bonus Task:\n",
    "\n",
    "Calculate the f1_score using the 'micro' average. [2 points]"
   ]
  },
  {
   "cell_type": "code",
   "execution_count": 9,
   "metadata": {
    "deletable": false,
    "nbgrader": {
     "cell_type": "code",
     "checksum": "fa53ec8e995384c3061ce61a9b335f4a",
     "grade": true,
     "grade_id": "TfIdfEmbeddings_D",
     "locked": false,
     "points": 10,
     "schema_version": 3,
     "solution": true,
     "task": false
    }
   },
   "outputs": [
    {
     "name": "stderr",
     "output_type": "stream",
     "text": [
      "/opt/conda/lib/python3.8/site-packages/sklearn/utils/validation.py:760: DataConversionWarning: A column-vector y was passed when a 1d array was expected. Please change the shape of y to (n_samples, ), for example using ravel().\n",
      "  y = column_or_1d(y, warn=True)\n"
     ]
    },
    {
     "data": {
      "image/png": "[encoded data removed]",
      "text/plain": [
       "<Figure size 432x288 with 2 Axes>"
      ]
     },
     "metadata": {
      "needs_background": "light"
     },
     "output_type": "display_data"
    },
    {
     "data": {
      "image/png": "[encoded data removed]",
      "text/plain": [
       "<Figure size 432x288 with 2 Axes>"
      ]
     },
     "metadata": {
      "needs_background": "light"
     },
     "output_type": "display_data"
    },
    {
     "name": "stdout",
     "output_type": "stream",
     "text": [
      "F1-score for training set 0.795\n",
      "F1-score for testing set 0.25\n"
     ]
    }
   ],
   "source": [
    "from sklearn.svm import SVC\n",
    "import seaborn as sns\n",
    "import pandas as pd\n",
    "import matplotlib.pyplot as plt\n",
    "from sklearn.metrics import plot_confusion_matrix, f1_score\n",
    "\n",
    "classifier = SVC(kernel='poly')\n",
    "classifier.fit(embed_train,labels_train)\n",
    "\n",
    "plot_confusion_matrix(classifier, embed_train,labels_train)\n",
    "plt.title('Confusion matrix of the classifier for train')\n",
    "plot_confusion_matrix(classifier, embed_test,labels_test)\n",
    "plt.title('Confusion matrix of the classifier for test')\n",
    "plt.show()\n",
    "\n",
    "pred_train_set = np.array(classifier.predict(embed_train).reshape(-1,1))\n",
    "pred_test_set = np.array(classifier.predict(embed_test).reshape(-1,1))\n",
    "\n",
    "print(\"F1-score for training set\",f1_score(labels_train,pred_train_set, average='micro'))\n",
    "print(\"F1-score for testing set\",f1_score(labels_test,pred_test_set, average='micro'))"
   ]
  },
  {
   "cell_type": "markdown",
   "metadata": {
    "deletable": false,
    "editable": false,
    "nbgrader": {
     "cell_type": "markdown",
     "checksum": "6109f01ece116528d4fa58d17e2f9344",
     "grade": false,
     "grade_id": "TfIdfEmbeddings_E_Description0",
     "locked": true,
     "schema_version": 3,
     "solution": false,
     "task": false
    }
   },
   "source": [
    "### One Hot Encoding E) [5 points]\n",
    "\n",
    "Discuss the performance of your classifier and reason why the performance is the way it is."
   ]
  },
  {
   "cell_type": "markdown",
   "metadata": {
    "deletable": false,
    "nbgrader": {
     "cell_type": "markdown",
     "checksum": "baffb96f47dad39f725a4c65a0e3893e",
     "grade": true,
     "grade_id": "TfIdfEmbeddings_E",
     "locked": false,
     "points": 5,
     "schema_version": 3,
     "solution": true,
     "task": false
    }
   },
   "source": [
    "F1 score for training set is better compared to testing test. Higher value of F1-score denotes better performance of the model. The model performs better during training and less efficient during testing. This change in performance is due to overfitting of the data."
   ]
  },
  {
   "cell_type": "markdown",
   "metadata": {
    "deletable": false,
    "editable": false,
    "nbgrader": {
     "cell_type": "markdown",
     "checksum": "42f6f38dc39dea52d9b2741c4df7a4ee",
     "grade": false,
     "grade_id": "TfIdfEmbeddings_F_Description0",
     "locked": true,
     "schema_version": 3,
     "solution": false,
     "task": false
    }
   },
   "source": [
    "## TfIdf Enconding\n",
    "\n",
    "Another way of creating word embeddings is to use tfidf embeddings.\n",
    "\n",
    "For this we need a set of documents from which we create a tfidf matrix. The rows of the matrix correspond to the terms while the columns correspond to the documents (see Figure 6.8 in the chapter *Vector Semantics and Embeddings*). The embedding for a certain word is then the row corresponding to that word in the tfidf matrix.\n",
    "\n",
    "We use the following equation to calculate the tfidf values:  \n",
    "\n",
    "$\\mathrm{tfidf}(t, d) = \\mathrm{tf}(t, d) * \\mathrm{idf}(t, d)$  \n",
    "$\\mathrm{tf}(t, d) = \\mathrm{log}_{10}(\\mathrm{count}(t, d) + 1)$  \n",
    "$\\mathrm{idf}(t, d) = \\mathrm{log}_{10}\\frac{N}{\\mathrm{df}(t)}$  \n",
    "$\\mathrm{df}(t) = $ number of documents $t$ appears in\n",
    "\n",
    "*Rough outline of the algorithm to create a tfidf matrix*:\n",
    "\n",
    "1. Start by building a term document matrix. Each entry in the matrix tells us how often a term $t$ appears in the document $d$.\n",
    "2. Convert each element in the matrix into a $\\mathrm{tf}$ value by applying the logarithm\n",
    "3. Create a df vector from that matrix. This tells us for each term in how many documents it appears\n",
    "4. Create an idf vector from the df vector\n",
    "5. Multiply each row of the matrix create in step 2. by the idf value for that term."
   ]
  },
  {
   "cell_type": "markdown",
   "metadata": {
    "deletable": false,
    "editable": false,
    "nbgrader": {
     "cell_type": "markdown",
     "checksum": "ac16ad1d517b616e18fe5d157e6c97fb",
     "grade": false,
     "grade_id": "TfIdfEmbeddings_F_Description1",
     "locked": true,
     "schema_version": 3,
     "solution": false,
     "task": false
    }
   },
   "source": [
    "### TfIdf Encoding A) [30 points]\n",
    "\n",
    "Complete the class ```TfIdfModel```.\n",
    "\n",
    "This class has the following three methods:\n",
    "\n",
    "- ```build_index```: Takes a list of documents (each being a list of tokens). Then it creates the dictionary ```self.index``` which maps each type to an index. In the example above the dictionary would look like this:\n",
    "```self.index = {'a': 0, 'dog': 1, 'i': 2, 'have': 3}```. You can copy your code from the OneHotModel for this function.\n",
    "\n",
    "- ```train```: Takes a list of documents (each being a list of tokens). This should train the tfidf model such that it can return vectors for each type in the corpus\n",
    "\n",
    "- ```embed```: Take a single word and return a tfidf vector for that word. If the word is not in the index it should return ```None```\n",
    "\n",
    "\n",
    "Please complete the three methods of the class."
   ]
  },
  {
   "cell_type": "code",
   "execution_count": 10,
   "metadata": {
    "deletable": false,
    "nbgrader": {
     "cell_type": "code",
     "checksum": "8433bb71048843dead2b3b5825b4e7af",
     "grade": false,
     "grade_id": "TfIdfEmbeddings_F",
     "locked": false,
     "schema_version": 3,
     "solution": true,
     "task": false
    }
   },
   "outputs": [],
   "source": [
    "from typing import List\n",
    "from collections import Counter\n",
    "import numpy as np\n",
    "\n",
    "class TfIdfModel(EmbeddingModel):\n",
    "    \n",
    "    def build_index(self, docs: List[List[str]]) -> None:\n",
    "        '''\n",
    "        Create an index for the vocabulary from the docs\n",
    "        \n",
    "        Args:\n",
    "            docs -- A list of documents where each document is a list of tokens\n",
    "        '''\n",
    "        self.index = dict()\n",
    "    \n",
    "        # Use list comprehension to convert a list of lists to a flat list \n",
    "        self.sorted_list = []\n",
    "        self.sorted_list = [w for s in docs for w in s]\n",
    "        \n",
    "        # Sorting the list in ascending order\n",
    "        self.sorted_list = sorted(list(set(self.sorted_list)))\n",
    "        \n",
    "        # Create dictionary for sorted list with index\n",
    "        self.index = {j:i for i,j in enumerate(self.sorted_list)}\n",
    "    \n",
    "    def train(self, docs: List[List[str]]) -> None:\n",
    "        '''\n",
    "        Train our model with a list of documents\n",
    "        \n",
    "        Args:\n",
    "            docs -- A list of documents where each document is a list of tokens\n",
    "        '''\n",
    "        \n",
    "        self.build_index(docs)\n",
    "        # Create an empty tfidf matrix\n",
    "        self.tfidf_matrix = np.zeros((len(self.index), len(docs)))\n",
    "        # Create an empty term document matrix\n",
    "        term_doc_matrix = np.zeros((len(self.index), len(docs)))\n",
    "        # Create an empty df vector\n",
    "        idf_vector = np.zeros(len(self.index))\n",
    "        \n",
    "        tf_vector = np.zeros((len(self.index), len(docs)))\n",
    "        \n",
    "        for vocab in self.index:\n",
    "            for doc_id in range(len(docs)):\n",
    "                for token in docs[doc_id]:\n",
    "                    if token == vocab:\n",
    "                        term_doc_matrix[self.index[vocab]][doc_id] +=1\n",
    "        \n",
    "        for vocab in self.index:\n",
    "            for doc_id in range(len(docs)):\n",
    "                tf_vector[self.index[vocab]][doc_id] = np.log10((term_doc_matrix[self.index[vocab]][doc_id])+1)#   /len(docs[doc_id]     \n",
    "        \n",
    "        for row in range(len(term_doc_matrix)):\n",
    "                idf_vector[row] = np.log10(len(docs)/np.sum(term_doc_matrix[row]))\n",
    "        \n",
    "        for vocab in self.index:\n",
    "            for doc_id in range(len(docs)):                                           \n",
    "                    self.tfidf_matrix[self.index[vocab]]= (tf_vector[self.index[vocab]]* idf_vector[self.index[vocab]])\n",
    "\n",
    "    \n",
    "    def embed(self, word: str) -> np.ndarray:\n",
    "        '''\n",
    "        Embed a word into our tfidf vector space\n",
    "        If the word is not in the index it will return None\n",
    "        \n",
    "        Args:\n",
    "            word      -- The word we want an embedding for\n",
    "        Returns:\n",
    "            embedding -- The tfidf embedding for the word\n",
    "        '''\n",
    "        # YOUR CODE HERE\n",
    "        for key in self.index:\n",
    "            if key == word:\n",
    "                return self.tfidf_matrix[self.index[key]]\n",
    "        return None\n",
    "       \n",
    "    def vector_size(self) -> int:\n",
    "        return self.tfidf_matrix.shape[1]"
   ]
  },
  {
   "cell_type": "code",
   "execution_count": 11,
   "metadata": {
    "deletable": false,
    "editable": false,
    "nbgrader": {
     "cell_type": "code",
     "checksum": "b95daaecf42e25467a837812aa60e8f9",
     "grade": false,
     "grade_id": "TfIdfEmbeddings_F_Debug",
     "locked": true,
     "schema_version": 3,
     "solution": false,
     "task": false
    }
   },
   "outputs": [
    {
     "name": "stdout",
     "output_type": "stream",
     "text": [
      "The index of your model is:\n",
      "{'do': 0, 'everybody': 1, 'fries': 2, 'i': 3, 'like': 4, 'likes': 5, 'or': 6, 'pizza': 7, 'you': 8}\n",
      "\n",
      "The document embedding for ['you', 'like', 'fries'] is:\n",
      "[0.01766958 0.06554552 0.04787594]\n",
      "\n",
      "Tfidf matrix of your model:\n",
      " [[0.         0.14362781 0.        ]\n",
      " [0.         0.         0.14362781]\n",
      " [0.         0.         0.14362781]\n",
      " [0.14362781 0.         0.        ]\n",
      " [0.05300875 0.05300875 0.        ]\n",
      " [0.         0.         0.14362781]\n",
      " [0.         0.         0.14362781]\n",
      " [0.         0.         0.        ]\n",
      " [0.         0.14362781 0.        ]]\n"
     ]
    }
   ],
   "source": [
    "# Here you can verify the working of your tfidf model\n",
    "\n",
    "# Create a tfidf model and train it on a dummy corpus\n",
    "model = TfIdfModel()\n",
    "corpus = [['i', 'like', 'pizza'],\n",
    "          ['do', 'you', 'like', 'pizza'],\n",
    "          ['everybody', 'likes', 'pizza', 'or', 'fries']]\n",
    "\n",
    "# Train the model on the corpus\n",
    "model.train(corpus)\n",
    "\n",
    "'''Show the index of the model\n",
    "Should be: \n",
    "{'do': 0, 'everybody': 1, \n",
    " 'fries': 2, 'i': 3, \n",
    " 'like': 4, 'likes': 5,\n",
    " 'or': 6, 'pizza': 7, 'you': 8}\n",
    "'''\n",
    "print('The index of your model is:')\n",
    "print(model.index)\n",
    "print()\n",
    "\n",
    "# Create a document embedding for the sample document\n",
    "doc = ['you', 'like', 'fries']\n",
    "\n",
    "# This should create the embedding: [0.05869709, 0.2177375 , 0.15904042])\n",
    "print(f'The document embedding for {doc} is:')\n",
    "print(bagOfWords(model, doc))\n",
    "print()\n",
    "\n",
    "# Show the internal tfidf matrix for this corpus:\n",
    "'''\n",
    "Expected is:\n",
    "array([[0.        , 0.47712125, 0.        ],\n",
    "       [0.        , 0.        , 0.47712125],\n",
    "       [0.        , 0.        , 0.47712125],\n",
    "       [0.47712125, 0.        , 0.        ],\n",
    "       [0.17609126, 0.17609126, 0.        ],\n",
    "       [0.        , 0.        , 0.47712125],\n",
    "       [0.        , 0.        , 0.47712125],\n",
    "       [0.        , 0.        , 0.        ],\n",
    "       [0.        , 0.47712125, 0.        ]])\n",
    "'''\n",
    "\n",
    "print('Tfidf matrix of your model:\\n', model.tfidf_matrix)"
   ]
  },
  {
   "cell_type": "code",
   "execution_count": 12,
   "metadata": {
    "deletable": false,
    "editable": false,
    "nbgrader": {
     "cell_type": "code",
     "checksum": "218fe99112b422eb6c03b6e284c45c69",
     "grade": true,
     "grade_id": "test_TfIdfEmbeddings_F0",
     "locked": true,
     "points": 30,
     "schema_version": 3,
     "solution": false,
     "task": false
    }
   },
   "outputs": [],
   "source": [
    "# This is a test cell, please ignore it"
   ]
  },
  {
   "cell_type": "markdown",
   "metadata": {
    "deletable": false,
    "editable": false,
    "nbgrader": {
     "cell_type": "markdown",
     "checksum": "18d8733b00804b786d9255615a50eb2e",
     "grade": false,
     "grade_id": "TfIdfEmbeddings_G_Description0",
     "locked": true,
     "schema_version": 3,
     "solution": false,
     "task": false
    }
   },
   "source": [
    "### TfIdf Encoding B) [5 points]\n",
    "\n",
    "To build tfidf document vectors we can use the same approach as for the one hot document vectors.\n",
    "\n",
    "Train your TfIdfModel on the reviews from the training set.\n",
    "\n",
    "Then create the following matrices / vectors from the training and test dataset:\n",
    "\n",
    "- ```embed_train```: A 2-dimensional numpy array where the rows are the document embeddings for each document in the training set\n",
    "- ```labels_train```: A 1-dimensional numpy array where each element is the rating (stars) of the review from the training set. The rating at position 3 should correspond to the third row of the ```embed_train``` matrix.\n",
    "- ```embed_test```: A 2-dimensional numpy array where the rows are the document embeddings for each document in the test set\n",
    "- ```labels_test```: A 1-dimensional numpy array where each element is the rating (stars) of the review from the test set. The rating at position 3 should correspond to the third row of the ```embed_test``` matrix."
   ]
  },
  {
   "cell_type": "code",
   "execution_count": 13,
   "metadata": {
    "deletable": false,
    "nbgrader": {
     "cell_type": "code",
     "checksum": "80a6daa77e5ab308b5335954ef5c7fa0",
     "grade": false,
     "grade_id": "TfIdfEmbeddings_G",
     "locked": false,
     "schema_version": 3,
     "solution": true,
     "task": false
    }
   },
   "outputs": [
    {
     "name": "stdout",
     "output_type": "stream",
     "text": [
      "(400, 400)\n",
      "(400,)\n",
      "(100, 400)\n",
      "(100,)\n"
     ]
    }
   ],
   "source": [
    "model = TfIdfModel()\n",
    "model.train([review['tokens'] for review in train])\n",
    "\n",
    "labels_train = np.array([review['stars'] for review in train])\n",
    "labels_test = np.array([(review['stars']) for review in test])\n",
    "\n",
    "train_corpus = [review['tokens'] for review in train]\n",
    "embed_train = np.empty((0,model.vector_size()))\n",
    "for document in train_corpus:\n",
    "    embed_train = np.append(embed_train,np.array([bagOfWords(model,list(document))]),axis=0)\n",
    "    \n",
    "    \n",
    "test_corpus = [review['tokens'] for review in test]\n",
    "embed_test = np.empty((0,model.vector_size()))\n",
    "for document in test_corpus:\n",
    "    embed_test = np.append(embed_test,np.array([bagOfWords(model,list(document))]),axis=0)\n",
    "\n",
    "print(embed_train.shape)  # Should print (400, 400)\n",
    "print(labels_train.shape) # Should print (400, )\n",
    "print(embed_test.shape)   # Should print (100, 400)\n",
    "print(labels_test.shape)  # Should print (100, )"
   ]
  },
  {
   "cell_type": "code",
   "execution_count": 14,
   "metadata": {
    "deletable": false,
    "editable": false,
    "nbgrader": {
     "cell_type": "code",
     "checksum": "f0427c237617fba9ca784d4bc8507878",
     "grade": true,
     "grade_id": "test_TfIdfEmbeddings_G0",
     "locked": true,
     "points": 5,
     "schema_version": 3,
     "solution": false,
     "task": false
    }
   },
   "outputs": [],
   "source": [
    "# This is a test cell, please ignore it"
   ]
  },
  {
   "cell_type": "markdown",
   "metadata": {
    "deletable": false,
    "editable": false,
    "nbgrader": {
     "cell_type": "markdown",
     "checksum": "306c1df6cbdb9b596a2e4a7670a9015f",
     "grade": false,
     "grade_id": "TfIdfEmbeddings_H_Description0",
     "locked": true,
     "schema_version": 3,
     "solution": false,
     "task": false
    }
   },
   "source": [
    "### TfIdf Encoding C) [5 points]\n",
    "\n",
    "Similar to task One Hot Encoding D) we want to train a classifier. \n",
    "\n",
    "- Train the SVM Classifier (SVC) on your training data with standard parameters\n",
    "- Plot a confusion matrix for the training set\n",
    "- Plot a confusion matrix for the test set\n",
    "- Add a title to each confusion matrix\n",
    "\n",
    "Bonus Task:\n",
    "\n",
    "Calculate the f1_score using the 'micro' average. [2 points]"
   ]
  },
  {
   "cell_type": "code",
   "execution_count": 15,
   "metadata": {
    "deletable": false,
    "nbgrader": {
     "cell_type": "code",
     "checksum": "a91f20e8fd8fc218c7e74b904c90d8a8",
     "grade": true,
     "grade_id": "TfIdfEmbeddings_H",
     "locked": false,
     "points": 5,
     "schema_version": 3,
     "solution": true,
     "task": false
    }
   },
   "outputs": [
    {
     "data": {
      "image/png": "[encoded data removed]",
      "text/plain": [
       "<Figure size 432x288 with 2 Axes>"
      ]
     },
     "metadata": {
      "needs_background": "light"
     },
     "output_type": "display_data"
    },
    {
     "data": {
      "image/png": "[encoded data removed]",
      "text/plain": [
       "<Figure size 432x288 with 2 Axes>"
      ]
     },
     "metadata": {
      "needs_background": "light"
     },
     "output_type": "display_data"
    },
    {
     "name": "stdout",
     "output_type": "stream",
     "text": [
      "F1-score for training set 0.9325\n",
      "F1-score for testing set 0.31\n"
     ]
    }
   ],
   "source": [
    "from sklearn.svm import SVC\n",
    "import seaborn as sns\n",
    "import pandas as pd\n",
    "import matplotlib.pyplot as plt\n",
    "from sklearn.metrics import plot_confusion_matrix, f1_score\n",
    "\n",
    "classifier = SVC(kernel='poly')\n",
    "classifier.fit(embed_train,labels_train)\n",
    "\n",
    "plot_confusion_matrix(classifier, embed_train,labels_train)\n",
    "plot_confusion_matrix(classifier, embed_test,labels_test)\n",
    "plt.show()\n",
    "\n",
    "pred_train_set = np.array(classifier.predict(embed_train).reshape(-1,1))\n",
    "pred_test_set = np.array(classifier.predict(embed_test).reshape(-1,1))\n",
    "\n",
    "print(\"F1-score for training set\",f1_score(labels_train,pred_train_set, average='micro'))\n",
    "print(\"F1-score for testing set\",f1_score(labels_test,pred_test_set, average='micro'))"
   ]
  },
  {
   "cell_type": "markdown",
   "metadata": {
    "deletable": false,
    "editable": false,
    "nbgrader": {
     "cell_type": "markdown",
     "checksum": "5f13cb04415caa5f82faee9f086b07d9",
     "grade": false,
     "grade_id": "TfIdfEmbeddings_I_Description0",
     "locked": true,
     "schema_version": 3,
     "solution": false,
     "task": false
    }
   },
   "source": [
    "### TfIdf Encoding D) [10 points]\n",
    "\n",
    "Discuss the performance of the TfIdf Embeddings for this task compared to the performance of the One Hot Embeddings. Which one is better? Why?"
   ]
  },
  {
   "cell_type": "markdown",
   "metadata": {
    "deletable": false,
    "nbgrader": {
     "cell_type": "markdown",
     "checksum": "041b6fb2de4d7183da1274f7f449d81a",
     "grade": true,
     "grade_id": "TfIdfEmbeddings_I",
     "locked": false,
     "points": 10,
     "schema_version": 3,
     "solution": true,
     "task": false
    }
   },
   "source": [
    "Comparing the performances between One Hot Embendings and Tfldf showed that Tfldf performed well because this approach weights more on the rareness of tokens in the document compared to One Hot Embedding method which consides frequencies of tokens across the corpus. This Tfldf generally addresses the problem of stop words."
   ]
  },
  {
   "cell_type": "code",
   "execution_count": null,
   "metadata": {},
   "outputs": [],
   "source": []
  }
 ],
 "metadata": {
  "kernelspec": {
   "display_name": "Python 3",
   "language": "python",
   "name": "python3"
  },
  "language_info": {
   "codemirror_mode": {
    "name": "ipython",
    "version": 3
   },
   "file_extension": ".py",
   "mimetype": "text/x-python",
   "name": "python",
   "nbconvert_exporter": "python",
   "pygments_lexer": "ipython3",
   "version": "3.7.6"
  }
 },
 "nbformat": 4,
 "nbformat_minor": 5
}
